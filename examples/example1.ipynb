{
 "cells": [
  {
   "cell_type": "markdown",
   "source": [
    "# NMSLIB"
   ],
   "metadata": {
    "collapsed": false
   }
  },
  {
   "cell_type": "code",
   "execution_count": null,
   "outputs": [],
   "source": [
    "# Initialize the NMSLIB implementation\n",
    "nmslib_ann = NmslibANN(space='cosinesimil', method='hnsw')\n",
    "\n",
    "# Add data points to the index\n",
    "data_points = [[1.0, 0.2], [0.8, 0.5], [0.3, 0.9]]\n",
    "nmslib_ann.add_items(data_points)\n",
    "\n",
    "# Build the index with optional parameters\n",
    "nmslib_ann.build_index(data_points, index_params={'post': 2, 'efConstruction': 200})\n",
    "\n",
    "# Query the index for the 3 nearest neighbors\n",
    "query_point = [0.5, 0.6]\n",
    "print(\"Query Results:\", nmslib_ann.query(query_point, k=3))\n",
    "\n",
    "# Save the index\n",
    "nmslib_ann.save_index('my_nmslib_index.nms')\n",
    "\n",
    "# Load the index\n",
    "nmslib_ann.load_index('my_nmslib_index.nms')\n",
    "\n",
    "# Retrieve a vector of an item\n",
    "item_vector = nmslib_ann.get_item_vector(0)\n",
    "print(\"Vector of item 0:\", item_vector)\n"
   ],
   "metadata": {
    "collapsed": false
   }
  },
  {
   "cell_type": "code",
   "execution_count": null,
   "outputs": [],
   "source": [
    "from annoy import AnnoyIndex\n",
    "import numpy as np\n",
    "\n",
    "# Initialize Annoy interface with high-dimensional data\n",
    "annoy_ann = AnnoyANN(dim=100, metric='angular', num_trees=20)\n",
    "\n",
    "# Generate some high-dimensional random data points\n",
    "np.random.seed(42)\n",
    "data_points = np.random.rand(1000, 100)  # 1000 points in 100 dimensions\n",
    "annoy_ann.add_items(data_points)\n",
    "\n",
    "# Build the index with specified number of trees\n",
    "annoy_ann.build_index(data_points)\n",
    "\n",
    "# Perform a complex query: Find 10 nearest neighbors for multiple query points\n",
    "query_points = np.random.rand(10, 100)  # 10 new random points\n",
    "results = [annoy_ann.query(point, k=10) for point in query_points]\n",
    "print(\"Complex Query Results for multiple points:\", results)\n",
    "\n",
    "# Save and reload the index\n",
    "annoy_ann.save_index('complex_annoy_index.ann')\n",
    "annoy_ann.load_index('complex_annoy_index.ann')\n",
    "\n",
    "# Dynamically change the metric and rebuild the index\n",
    "annoy_ann.set_distance_metric('euclidean')\n",
    "annoy_ann.build_index(data_points)\n",
    "\n",
    "# Additional complexity: Use the index in a batch operation\n",
    "batch_results = annoy_ann.batch_query(query_points, k=5)\n",
    "print(\"Batch Query Results:\", batch_results)\n",
    "\n",
    "# Optimize the index by rebuilding it\n",
    "annoy_ann.optimize_index()\n"
   ],
   "metadata": {
    "collapsed": false
   }
  },
  {
   "cell_type": "code",
   "execution_count": null,
   "outputs": [],
   "source": [
    "import nmslib\n",
    "import numpy as np\n",
    "\n",
    "# Initialize NMSLIB interface with cosine similarity space\n",
    "nmslib_ann = NmslibANN(space='cosinesimil')\n",
    "\n",
    "# Generate random high-dimensional data points\n",
    "np.random.seed(42)\n",
    "data_points = np.random.rand(1000, 50)  # 1000 points in 50 dimensions\n",
    "nmslib_ann.add_items(data_points)\n",
    "\n",
    "# Build the index with advanced parameters\n",
    "nmslib_ann.build_index(data_points, index_params={'M': 30, 'post': 0, 'efConstruction': 100})\n",
    "\n",
    "# Query the index for nearest neighbors using a complex batch of queries\n",
    "query_points = np.random.rand(20, 50)  # 20 random query points\n",
    "complex_results = [nmslib_ann.query(point, k=8) for point in query_points]\n",
    "print(\"Advanced Query Results for batch points:\", complex_results)\n",
    "\n",
    "# Save and reload the index\n",
    "nmslib_ann.save_index('complex_nmslib_index.nms')\n",
    "nmslib_ann.load_index('complex_nmslib_index.nms')\n",
    "\n",
    "# Adjust the method and rebuild the index\n",
    "nmslib_ann.set_index_parameters(method='sw-graph', space='l2')\n",
    "nmslib_ann.build_index(data_points)\n",
    "\n",
    "# Demonstrate retrieval and handling of individual vectors\n",
    "item_vectors = [nmslib_ann.get_item_vector(i) for i in range(10)]\n",
    "print(\"Vectors of first 10 items:\", item_vectors)\n",
    "\n",
    "# Utilize multi-threading capabilities (if supported by the library setup)\n",
    "nmslib_ann.set_num_threads(4)\n"
   ],
   "metadata": {
    "collapsed": false
   }
  }
 ],
 "metadata": {
  "kernelspec": {
   "display_name": "Python 3",
   "language": "python",
   "name": "python3"
  },
  "language_info": {
   "codemirror_mode": {
    "name": "ipython",
    "version": 2
   },
   "file_extension": ".py",
   "mimetype": "text/x-python",
   "name": "python",
   "nbconvert_exporter": "python",
   "pygments_lexer": "ipython2",
   "version": "2.7.6"
  }
 },
 "nbformat": 4,
 "nbformat_minor": 0
}
